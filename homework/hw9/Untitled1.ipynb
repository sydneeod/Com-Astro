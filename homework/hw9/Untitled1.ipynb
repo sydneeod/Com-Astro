{
 "cells": [
  {
   "cell_type": "code",
   "execution_count": null,
   "metadata": {},
   "outputs": [],
   "source": [
    "import numpy as np\n",
    "import matplotlib.pyplot as plt\n",
    "import scipy\n",
    "from scipy.optimize import curve_fit\n",
    "\n",
    "def func(x,a,b,c,a2,b2,c2): # function we're plotting and fitting to                                                                                                       \n",
    "    return a*np.exp(-((x - b)**2) / (2*(c**2))) + a2*np.exp(-((x-b2)**2) / (2*(c2**2))) # from https://en.wikipedia.org/wiki/Gaussian_function                            \\\n",
    "                                                                                                                                                                           \n",
    "\n",
    "# data                                                                                                                                                                     \n",
    "data = np.loadtxt('hw10b.dat') # loading in the data from hw10a                                                                                                           \n",
    "data_x = data[:,0] # row 1 data into an array                                                                                                                              \n",
    "data_y = data[:,1] # row 2 data into an array                                                                                                                             \n",
    "param = [.017,-50,-10,.02,50,10] # random parameter array with estimations                                                                                                 \n",
    "\n",
    "\n",
    "popt,pcov = curve_fit(func,data_x,data_y,param) # curve fitting                                                                                                           \n",
    "a = popt[0]\n",
    "b = popt[1]\n",
    "c = popt[2]\n",
    "a2 = popt[3]\n",
    "b2 = popt[4]\n",
    "c2 = popt[5]\n",
    "\n",
    "#FWHM = c*np.sqrt(2*np.log(2)) for some reason, calculating the value this way does not work                                                                               \n",
    "FWHM = c*2.34582 # found using the wiki link above                                                                                                                         \n",
    "\n",
    "fig = plt.figure()\n",
    "ax = fig.add_subplot(111)\n",
    "ax.scatter(data_x,data_y, label = 'data',color =\"blue\")\n",
    "ax.plot(data_x,func(data_x,popt[0],popt[1],popt[2],popt[3],popt[4],popt[5]),label = 'best fit',color =\"red\")\n",
    "\n",
    "ax.set_xlabel('Velocity (km/s)')\n",
    "ax.set_ylabel('Temperature Proportional to Intensity')\n",
    "plt.legend()\n",
    "fig.savefig('extraCred_b.png')\n"
   ]
  }
 ],
 "metadata": {
  "kernelspec": {
   "display_name": "Python 3.8 (basic)",
   "language": "python",
   "name": "python3"
  },
  "language_info": {
   "codemirror_mode": {
    "name": "ipython",
    "version": 3
   },
   "file_extension": ".py",
   "mimetype": "text/x-python",
   "name": "python",
   "nbconvert_exporter": "python",
   "pygments_lexer": "ipython3",
   "version": "3.8.1"
  }
 },
 "nbformat": 4,
 "nbformat_minor": 4
}
