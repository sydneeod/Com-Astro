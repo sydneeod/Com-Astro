{
 "cells": [
  {
   "cell_type": "code",
   "execution_count": 2,
   "metadata": {},
   "outputs": [
    {
     "name": "stdout",
     "output_type": "stream",
     "text": [
      "[[ 3.  0. -1. -1.]\n",
      " [ 1. -4.  0.  5.]\n",
      " [ 0.  1.  4.  1.]\n",
      " [ 2. -2.  1.  3.]]\n",
      "[[ 1.          0.         -0.33333333 -0.33333333]\n",
      " [-0.          1.         -0.08333333 -1.33333333]\n",
      " [ 0.          0.          1.          0.57142857]\n",
      " [ 0.          0.          0.          1.        ]]\n",
      "[ 2.57142857 13.57142857 -7.42857143 12.14285714]\n"
     ]
    }
   ],
   "source": [
    "## I worked on this homework together with Joe Grimm and Raymond Banton\n",
    "\n",
    "import numpy as np\n",
    "\n",
    "A = np.array([[0,1,4,1],\n",
    "             [3,0,-1,-1],\n",
    "             [1,-4,0,5],\n",
    "             [2,-2,1,3]], float)\n",
    "v = np.array([-4,3,9,7], float)\n",
    "N = len(v)\n",
    "\n",
    "for i in range(1,N):\n",
    "    if A[i,i] == 0: # if an element on the diagonal = 0, piviot \n",
    "        Acopy = np.copy(A) # copy the original arrays\n",
    "        vcopy = np.copy(v)\n",
    "        \n",
    "        if i == 0:\n",
    "            A[0] = Acopy[N-1]\n",
    "            v[0] = vcopy[N-1]\n",
    "            \n",
    "            A[N-1] = Acopy[i]\n",
    "            v[N-1] = vcopy[i]\n",
    "        \n",
    "        else:\n",
    "            A[i] = Acopy[i-1]\n",
    "            v[i] = vcopy[i-1]\n",
    "            \n",
    "            A[i-1] = Acopy[i]\n",
    "            v[i-1] = vcopy[i]\n",
    "\n",
    "print(A)\n",
    "\n",
    "for m in range(N):\n",
    "    div = A[m,m]\n",
    "    A[m,:] /= div\n",
    "    v[m] /= div\n",
    "    \n",
    "    for i in range(m+1,N):\n",
    "        mult = A[i,m]\n",
    "        A[i,:] -= mult*A[m,:]\n",
    "        v[i] -= mult*v[m]\n",
    "        \n",
    "x = np.empty(N,float)\n",
    "for m in range(N-1,-1,-1):\n",
    "    x[m] = v[m]\n",
    "    for i in range(m+1,N):\n",
    "        x[m] -= A[m,i]*x[i]\n",
    "        \n",
    "print(A)\n",
    "print(x)\n",
    "    "
   ]
  },
  {
   "cell_type": "code",
   "execution_count": null,
   "metadata": {},
   "outputs": [],
   "source": []
  }
 ],
 "metadata": {
  "kernelspec": {
   "display_name": "Python 3.8 (basic)",
   "language": "python",
   "name": "python3"
  },
  "language_info": {
   "codemirror_mode": {
    "name": "ipython",
    "version": 3
   },
   "file_extension": ".py",
   "mimetype": "text/x-python",
   "name": "python",
   "nbconvert_exporter": "python",
   "pygments_lexer": "ipython3",
   "version": "3.8.1"
  }
 },
 "nbformat": 4,
 "nbformat_minor": 4
}
