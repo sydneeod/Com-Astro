{
 "cells": [
  {
   "cell_type": "code",
   "execution_count": 2,
   "metadata": {},
   "outputs": [
    {
     "data": {
      "image/png": "[encoded data removed]",
      "text/plain": [
       "<Figure size 432x288 with 1 Axes>"
      ]
     },
     "metadata": {
      "needs_background": "light"
     },
     "output_type": "display_data"
    }
   ],
   "source": [
    "import numpy as np\n",
    "from numpy import random\n",
    "import matplotlib.pyplot as plt\n",
    "\n",
    "N = 10 # number of people                                                                         \n",
    "t = 0 #                                                                                           \n",
    "Tmax = 10 # degrees                                                                               \n",
    "Tmin = 1e-3 # degrees                                                                             \n",
    "tau = 1.e4 # set by us manually                                                                   \n",
    "T = Tmax\n",
    "\n",
    "# initalizing first and final floor arrays randomly                                               \n",
    "initalF = np.random.randint(1,101,10)\n",
    "finalF = np.random.randint(1,101,10)\n",
    "\n",
    "# if a person wants to go to a floor they're already on, re randomize                             \n",
    "for i in range(N):\n",
    "    if initalF[i] == finalF[i]:\n",
    "        initalF[i] = np.random.randint(1,101)\n",
    "        print(\"swapped\", initalF)\n",
    "\n",
    "print(initalF)\n",
    "print(finalF)\n",
    "\n",
    "# calculating the distance between floors                                                         \n",
    "def distance(N,a,b):# n = number of people, a = inital point, b = final point                     \n",
    "    s = 0. #distance travled                                                                      \n",
    "    for i in range(N): # loop through arrays to find the distances between each starting and fina\\\n",
    "l                                                                                                 \n",
    "        # endpoint                                                                                \n",
    "        s += abs(b[i] - a[i]) # abs b/c you don't want a - distance                               \n",
    "        # everything else                                                                         \n",
    "        if i < N -1:\n",
    "            s += abs(a[i+1] - b[i])\n",
    "    return s # distance value                                                                     \n",
    "\n",
    "D = distance(N,initalF,finalF) # first distance value from non swapped random arrays              \n",
    "print(D)\n",
    "\n",
    "D_saved = [] #initalizing D_saved array                                                           \n",
    "\n",
    "# annealing while loop                                                                            \n",
    "while T > Tmin:\n",
    "\n",
    "    # starting to cool a bit                                                                      \n",
    "    t = t+1 # time is incrementing                                                                \n",
    "    T = Tmax * np.exp(-t/tau)\n",
    "\n",
    "    # picking 2 people to swap                                                                    \n",
    "    i = np.random.randint(N) # person 1                                                           \n",
    "    j = np.random.randint(N) # person 2  \n",
    "    \n",
    "    while i == j: ## if the two people are the same, repick                                       \n",
    "        i = np.random.randint(N)\n",
    "        j = np.random.randint(N)\n",
    "\n",
    "    # swapping                                                                                    \n",
    "    initalF[i],initalF[j] = initalF[j],initalF[i] # swapping inital floors of the 2 people        \n",
    "    finalF[i],finalF[j] = finalF[j],finalF[i] # swapping final floors of the 2 people             \n",
    "\n",
    "    swapD = distance(N,initalF,finalF) # recalculating the swapped distance                       \n",
    "    deltaD = swapD - D # new distance - old                                                       \n",
    "\n",
    "    if deltaD > 0:                                                                     \n",
    "\n",
    "        if np.random.random() > np.exp(-deltaD/T):               \n",
    "            initalF[i],initalF[j] = initalF[j],initalF[i] # swapping inital floors of the 2 peopl\\                                                                                                 \n",
    "            finalF[i],finalF[j] = finalF[j],finalF[i] # swapping final floors of the 2 people     \n",
    "\n",
    "        D = distance(N,initalF,finalF) # recalculate distance  \n",
    "        D_saved.append(D)\n",
    "\n",
    "    else: # if the distance is better, save                                                       \n",
    "        D = distance(N,initalF,finalF)\n",
    "        D_saved.append(D)\n",
    "\n",
    "print(\"Distance travled: \",D) # final optimized distance                                          \n",
    "print(initalF) # reordered inital floor array                                                     \n",
    "print(finalF) # reordered final floor array                                                       \n",
    "\n",
    "# plotting                                                                                        \n",
    "fig = plt.figure()\n",
    "ax = fig.add_subplot(111)\n",
    "\n",
    "ax.plot(np.arange(len(D_saved)),D_saved)\n",
    "ax.set_xscale('log')\n",
    "plt.title('Distances as a Funtion of Swaps')\n",
    "plt.xlabel('Numer of Swaps')\n",
    "plt.ylabel('Elevator Distance')\n",
    "fig.savefig('mcmc2.png',dpi=300)"
   ]
  },
  {
   "cell_type": "code",
   "execution_count": null,
   "metadata": {},
   "outputs": [],
   "source": []
  }
 ],
 "metadata": {
  "kernelspec": {
   "display_name": "Python 3.8 (basic)",
   "language": "python",
   "name": "python3"
  },
  "language_info": {
   "codemirror_mode": {
    "name": "ipython",
    "version": 3
   },
   "file_extension": ".py",
   "mimetype": "text/x-python",
   "name": "python",
   "nbconvert_exporter": "python",
   "pygments_lexer": "ipython3",
   "version": "3.8.1"
  }
 },
 "nbformat": 4,
 "nbformat_minor": 4
}
