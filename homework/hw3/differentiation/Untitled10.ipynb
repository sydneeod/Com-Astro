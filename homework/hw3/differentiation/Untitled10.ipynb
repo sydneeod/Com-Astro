{
 "cells": [
  {
   "cell_type": "code",
   "execution_count": null,
   "metadata": {},
   "outputs": [],
   "source": [
    "import numpy as np\n",
    "import matplotlib.pyplot as plt\n",
    "from scipy.optimize import curve_fit\n",
    "\n",
    "def func(x,a,b,c):\n",
    "    return a*np.exp(-b*x) + c\n",
    "\n",
    "def func_to_fit(x,a,b,c):\n",
    "    return a*np.log10(-b*x) + c\n",
    "\n",
    "# data\n",
    "x = np.linspace(0,4,50)\n",
    "y = func(x,2.5,1.3,0.5)\n",
    "y_data = y + 0.2*np.random.normal(size = len(x))\n",
    "\n"
   ]
  }
 ],
 "metadata": {
  "kernelspec": {
   "display_name": "Python 3.8 (basic)",
   "language": "python",
   "name": "python3"
  },
  "language_info": {
   "codemirror_mode": {
    "name": "ipython",
    "version": 3
   },
   "file_extension": ".py",
   "mimetype": "text/x-python",
   "name": "python",
   "nbconvert_exporter": "python",
   "pygments_lexer": "ipython3",
   "version": "3.8.1"
  }
 },
 "nbformat": 4,
 "nbformat_minor": 4
}
