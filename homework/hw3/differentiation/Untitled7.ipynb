{
 "cells": [
  {
   "cell_type": "code",
   "execution_count": 6,
   "metadata": {},
   "outputs": [
    {
     "name": "stdout",
     "output_type": "stream",
     "text": [
      "delta t 1.0 temp 18.047533765594444\n",
      "delta t 0.5 temp 23.737212951453156\n",
      "delta t 0.25 temp 26.002489460539095\n",
      "delta t 0.125 temp 27.013900771286725\n"
     ]
    }
   ],
   "source": [
    "import numpy as np\n",
    "import matplotlib.pyplot as plt\n",
    "\n",
    "def f(T,t):\n",
    "    return -k*(T - Toutside)\n",
    "\n",
    "k = 0.001\n",
    "Toutside = 40\n",
    "\n",
    "a = 0 # inital point \n",
    "b = 600 # end point\n",
    "N = 1000 # number of steps\n",
    "h = (b-a)/N # step size\n",
    "\n",
    "temp = 0 \n",
    "\n",
    "tpoints = np.arange(a,b,h)\n",
    "\n",
    "t_solution = [] # empty solution aray\n",
    "\n",
    "for i in range(1,5): # looping through the four different delta T\n",
    "    deltaT = 1 / (2**(i-1))\n",
    "    h = ((b - a)/N) * delta\n",
    "    \n",
    "    for t in tpoints:\n",
    "        t_solution.append(temp)\n",
    "\n",
    "        k1 = h*f(temp,t)\n",
    "        k2 = h*(f(temp + 0.5*k1, t + 0.5*h))\n",
    "        temp = temp + k2\n",
    "\n",
    "    print(\"delta t\",deltaT,\"temp\",temp)\n"
   ]
  },
  {
   "cell_type": "code",
   "execution_count": null,
   "metadata": {},
   "outputs": [],
   "source": []
  }
 ],
 "metadata": {
  "kernelspec": {
   "display_name": "Python 3.8 (basic)",
   "language": "python",
   "name": "python3"
  },
  "language_info": {
   "codemirror_mode": {
    "name": "ipython",
    "version": 3
   },
   "file_extension": ".py",
   "mimetype": "text/x-python",
   "name": "python",
   "nbconvert_exporter": "python",
   "pygments_lexer": "ipython3",
   "version": "3.8.1"
  }
 },
 "nbformat": 4,
 "nbformat_minor": 4
}
