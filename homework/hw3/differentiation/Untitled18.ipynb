{
 "cells": [
  {
   "cell_type": "code",
   "execution_count": 16,
   "metadata": {},
   "outputs": [
    {
     "name": "stdout",
     "output_type": "stream",
     "text": [
      "14.415348815793445\n",
      "None\n"
     ]
    },
    {
     "ename": "TypeError",
     "evalue": "unsupported operand type(s) for -: 'float' and 'NoneType'",
     "output_type": "error",
     "traceback": [
      "\u001b[0;31m---------------------------------------------------------------------------\u001b[0m",
      "\u001b[0;31mTypeError\u001b[0m                                 Traceback (most recent call last)",
      "\u001b[0;32m<ipython-input-16-9e0f8a9efbdd>\u001b[0m in \u001b[0;36m<module>\u001b[0;34m\u001b[0m\n\u001b[1;32m     47\u001b[0m    \u001b[0;31m# print(D)\u001b[0m\u001b[0;34m\u001b[0m\u001b[0;34m\u001b[0m\u001b[0;34m\u001b[0m\u001b[0m\n\u001b[1;32m     48\u001b[0m     \u001b[0mprint\u001b[0m\u001b[0;34m(\u001b[0m\u001b[0moldD\u001b[0m\u001b[0;34m)\u001b[0m\u001b[0;34m\u001b[0m\u001b[0;34m\u001b[0m\u001b[0m\n\u001b[0;32m---> 49\u001b[0;31m     \u001b[0mdeltaD\u001b[0m \u001b[0;34m=\u001b[0m \u001b[0mD\u001b[0m \u001b[0;34m-\u001b[0m \u001b[0moldD\u001b[0m \u001b[0;31m#is distance bigger or smaller? difference in distances, want it to be a - number if it is a good swap\u001b[0m\u001b[0;34m\u001b[0m\u001b[0;34m\u001b[0m\u001b[0m\n\u001b[0m\u001b[1;32m     50\u001b[0m \u001b[0;34m\u001b[0m\u001b[0m\n\u001b[1;32m     51\u001b[0m     \u001b[0;32mif\u001b[0m \u001b[0mdeltaD\u001b[0m \u001b[0;34m>\u001b[0m \u001b[0;36m0\u001b[0m\u001b[0;34m:\u001b[0m \u001b[0;31m# if bad swap, swap it back\u001b[0m\u001b[0;34m\u001b[0m\u001b[0;34m\u001b[0m\u001b[0m\n",
      "\u001b[0;31mTypeError\u001b[0m: unsupported operand type(s) for -: 'float' and 'NoneType'"
     ]
    }
   ],
   "source": [
    "import numpy as np\n",
    "from numpy import random\n",
    "from numpy import empty\n",
    "\n",
    "# import matplotlib.pyplot as plt\n",
    "\n",
    "N = 25 # number of people\n",
    "\n",
    "def mag(x):\n",
    "    return np.sqrt(x[0]**2. + x[1]**2.)\n",
    "\n",
    "def distance(N,r):\n",
    "    s = 0. # distance travled \n",
    "    for i in range(N):\n",
    "        s = s+mag(r[i+1] - r[i])\n",
    "    return s\n",
    "\n",
    "# assigning city locations, calculating inital distance travled\n",
    "r = empty([N+1,2],float)\n",
    "for i in range(N):\n",
    "    r[i,0] = np.random.random()\n",
    "    r[i,1] = np.random.random()\n",
    "r[N] = r[0]\n",
    "\n",
    "# calculate inital distance\n",
    "D = distance(N,r)\n",
    "\n",
    "D_saved = []\n",
    "\n",
    "for dummy_counter in range(10000):\n",
    "    \n",
    "    # pick 2 cities to swap\n",
    "    i = np.random.randint(N)\n",
    "    j = np.random.randint(N)\n",
    "    \n",
    "    # in case accidentally pick same city, keep randomizing until not same\n",
    "    while i == j:\n",
    "        i = np.random.randint(N)\n",
    "        j = np.random.randint(N)\n",
    "    \n",
    "    # swap cities to calculate change in distance\n",
    "    oldD = D\n",
    "    r[i,0],r[j,0] = r[j,0],r[i,0] # new r of j = old r of j, does both swaps automatically once, swapping x positions for i and j \n",
    "    r[i,1],r[j,1] = r[j,1],r[i,1] # swapping y positions\n",
    "    D = distance(N,r)\n",
    "    \n",
    "   # print(D)\n",
    "    print(oldD)\n",
    "    deltaD = D - oldD #is distance bigger or smaller? difference in distances, want it to be a - number if it is a good swap\n",
    "    \n",
    "    if deltaD > 0: # if bad swap, swap it back\n",
    "        r[i,0],r[j,0] = r[j,0],r[i,0]\n",
    "        r[i,1],r[j,1] = r[j,1],r[i,1]\n",
    "        D = distance(N,r)\n",
    "        D = D_saved.append(D)\n",
    "    else:\n",
    "        D = distance(N,r)\n",
    "        D_saved.append(D)\n",
    "        \n",
    "        \n",
    "fig = plt.figure()\n",
    "ax = fig.add_subplot(111)\n",
    "\n",
    "ax.plot(np.arrange(len(D_saved)),D_saved_)\n",
    "ax.set_xscale('log')\n",
    "fig.savefig('mcmc.png', dpi=300)"
   ]
  },
  {
   "cell_type": "code",
   "execution_count": null,
   "metadata": {},
   "outputs": [],
   "source": []
  },
  {
   "cell_type": "code",
   "execution_count": null,
   "metadata": {},
   "outputs": [],
   "source": []
  }
 ],
 "metadata": {
  "kernelspec": {
   "display_name": "Python 3.8 (basic)",
   "language": "python",
   "name": "python3"
  },
  "language_info": {
   "codemirror_mode": {
    "name": "ipython",
    "version": 3
   },
   "file_extension": ".py",
   "mimetype": "text/x-python",
   "name": "python",
   "nbconvert_exporter": "python",
   "pygments_lexer": "ipython3",
   "version": "3.8.1"
  }
 },
 "nbformat": 4,
 "nbformat_minor": 4
}
