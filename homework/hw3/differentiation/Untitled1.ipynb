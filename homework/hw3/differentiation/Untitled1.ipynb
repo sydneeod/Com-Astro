{
 "cells": [
  {
   "cell_type": "code",
   "execution_count": 8,
   "metadata": {},
   "outputs": [
    {
     "name": "stdout",
     "output_type": "stream",
     "text": [
      "[[ 0.  1.  4.  1.]\n",
      " [ 3.  4. -1. -1.]\n",
      " [ 1. -4.  1.  5.]\n",
      " [ 2. -2.  1.  3.]] this is A1\n",
      "pivoting\n",
      "pivoting\n",
      "[[ 0.   1.   4.   1. ]\n",
      " [ 3.   4.  -1.  -1. ]\n",
      " [ 4.   0.   0.   4. ]\n",
      " [ 3.5  0.   0.5  2.5]] this is A2\n",
      "[[nan inf inf inf]\n",
      " [nan nan nan nan]\n",
      " [nan nan nan nan]\n",
      " [nan nan nan nan]]\n",
      "[nan nan nan nan]\n"
     ]
    },
    {
     "name": "stderr",
     "output_type": "stream",
     "text": [
      "<ipython-input-8-1d8c3b29b0ef>:33: RuntimeWarning: divide by zero encountered in true_divide\n",
      "  A[m,:] /= div\n",
      "<ipython-input-8-1d8c3b29b0ef>:33: RuntimeWarning: invalid value encountered in true_divide\n",
      "  A[m,:] /= div\n",
      "<ipython-input-8-1d8c3b29b0ef>:34: RuntimeWarning: divide by zero encountered in double_scalars\n",
      "  v[m] /= div\n",
      "<ipython-input-8-1d8c3b29b0ef>:34: RuntimeWarning: invalid value encountered in double_scalars\n",
      "  v[m] /= div\n"
     ]
    }
   ],
   "source": [
    "import numpy as np\n",
    "A = np.array([[0,1,4,1],\n",
    "              [3,4,-1,-1],\n",
    "              [1,-4,1,5],\n",
    "              [2,-2,1,3]],float)\n",
    "v = np.array([-4,3,9,7],float)\n",
    "N = len(v)\n",
    "\n",
    "print(A, \"this is A1\")\n",
    "\n",
    "for i in range(0,N-1): ## loop through columns \n",
    "    for j in range(i+1,N): ## loop through the rows \n",
    "        if A[i,i] == 0:\n",
    "            print(\"pivoting\")\n",
    "            break\n",
    "            \n",
    "        k = A[j,i] / A[i,i]\n",
    "        A[j,:] = A[j,:] - k*A[i,:]\n",
    "        v[j] = v[j] - k*v[i]\n",
    "    \n",
    "\n",
    "# for k in range(N):\n",
    "#     for i in range(k,N):\n",
    "#          if abs(A[i][k]) > abs(A[k][k]):\n",
    "#             A[k],A[i] = A[i],A[k]\n",
    "#          else:\n",
    "#             pass\n",
    "        \n",
    "print(A, \"this is A2\")\n",
    "\n",
    "for m in range(N):\n",
    "    div = A[m,m]\n",
    "    A[m,:] /= div\n",
    "    v[m] /= div\n",
    "    \n",
    "    for i in range(m+1,N):\n",
    "        mult = A[i,m]\n",
    "        A[i,:] -= mult*A[m,:]\n",
    "        v[i] -= mult*v[m]\n",
    "        \n",
    "x = np.empty(N,float)\n",
    "\n",
    "for m in range(N-1,-1,-1):\n",
    "    x[m] = v[m]\n",
    "    for i in range(m+1,N):\n",
    "        x[m] -= A[m,i]*x[i]\n",
    "        \n",
    "print(A)\n",
    "print(x)"
   ]
  },
  {
   "cell_type": "code",
   "execution_count": null,
   "metadata": {},
   "outputs": [],
   "source": []
  }
 ],
 "metadata": {
  "kernelspec": {
   "display_name": "Python 3.8 (basic)",
   "language": "python",
   "name": "python3"
  },
  "language_info": {
   "codemirror_mode": {
    "name": "ipython",
    "version": 3
   },
   "file_extension": ".py",
   "mimetype": "text/x-python",
   "name": "python",
   "nbconvert_exporter": "python",
   "pygments_lexer": "ipython3",
   "version": "3.8.1"
  }
 },
 "nbformat": 4,
 "nbformat_minor": 4
}
