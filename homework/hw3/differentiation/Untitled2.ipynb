{
 "cells": [
  {
   "cell_type": "code",
   "execution_count": 9,
   "metadata": {},
   "outputs": [
    {
     "name": "stdout",
     "output_type": "stream",
     "text": [
      "[ 3.07619048 -0.28571429  4.77142857] x1\n",
      "[ 3.07619048 -0.28571429  4.77142857] x2\n"
     ]
    }
   ],
   "source": [
    "import numpy as np\n",
    "\n",
    "def Cal_LU(D,g):\n",
    "    A=np.array((D),dtype=float)\n",
    "    f=np.array((g),dtype=float)\n",
    "    n = f.size\n",
    "    for i in range(0,n-1):     # Loop through the columns of the matrix\n",
    "        for j in range(i+1,n):     # Loop through rows below diagonal for each column\n",
    "            if A[i,i] == 0:\n",
    "                print(\"Error: Zero on diagonal!\")\n",
    "                print(\"Need algorithm with pivoting\")\n",
    "                break\n",
    "            m = A[j,i]/A[i,i]\n",
    "            A[j,:] = A[j,:] - m*A[i,:]\n",
    "            f[j] = f[j] - m*f[i]\n",
    "    return A,f\n",
    "\n",
    "def Back_Subs(A,f):\n",
    "    n = f.size\n",
    "    x = np.zeros(n)             # Initialize the solution vector, x, to zero\n",
    "    x[n-1] = f[n-1]/A[n-1,n-1]    # Solve for last entry first\n",
    "    for i in range(n-2,-1,-1):      # Loop from the end to the beginning\n",
    "        sum_ = 0\n",
    "        for j in range(i+1,n):        # For known x values, sum and move to rhs\n",
    "            sum_ = sum_ + A[i,j]*x[j]\n",
    "        x[i] = (f[i] - sum_)/A[i,i]\n",
    "    return x\n",
    "\n",
    "# A = np.array([[2,3,5],[3,4,1],[6,7,2]])\n",
    "# f = np.array([23,14,26])\n",
    "# B,g = Cal_LU(A,f)\n",
    "# x= Back_Subs(B,g)\n",
    "# print(x, \"x\")\n",
    "\n",
    "# y = np.linalg.solve(A,f)\n",
    "# print(y, \"y\")\n",
    "\n",
    "def Cal_LU_pivot(D,g):\n",
    "    A=np.array((D),dtype=float)\n",
    "    f=np.array((g),dtype=float)\n",
    "    n = len(f)\n",
    "    for i in range(0,n-1):     # Loop through the columns of the matrix\n",
    "        \n",
    "        if np.abs(A[i,i])==0:\n",
    "            for k in range(i+1,n):\n",
    "                if np.abs(A[k,i])>np.abs(A[i,i]):\n",
    "                    A[[i,k]]=A[[k,i]]             # Swaps ith and kth rows to each other\n",
    "                    f[[i,k]]=f[[k,i]]\n",
    "                    break\n",
    "                    \n",
    "        for j in range(i+1,n):     # Loop through rows below diagonal for each column\n",
    "            m = A[j,i]/A[i,i]\n",
    "            A[j,:] = A[j,:] - m*A[i,:]\n",
    "            f[j] = f[j] - m*f[i]\n",
    "    return A,f\n",
    "\n",
    "A = np.array([[0,3,5],[3,0,1],[6,7,2]])\n",
    "f = np.array([23,14,26])\n",
    "B,g = Cal_LU_pivot(A,f)\n",
    "x= Back_Subs(B,g)\n",
    "print(x, \"x1\")\n",
    "\n",
    "x = np.linalg.solve(A,f)\n",
    "print(x, \"x2\")"
   ]
  },
  {
   "cell_type": "code",
   "execution_count": null,
   "metadata": {},
   "outputs": [],
   "source": []
  }
 ],
 "metadata": {
  "kernelspec": {
   "display_name": "Python 3.8 (basic)",
   "language": "python",
   "name": "python3"
  },
  "language_info": {
   "codemirror_mode": {
    "name": "ipython",
    "version": 3
   },
   "file_extension": ".py",
   "mimetype": "text/x-python",
   "name": "python",
   "nbconvert_exporter": "python",
   "pygments_lexer": "ipython3",
   "version": "3.8.1"
  }
 },
 "nbformat": 4,
 "nbformat_minor": 4
}
