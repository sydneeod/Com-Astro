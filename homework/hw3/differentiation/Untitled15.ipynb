{
 "cells": [
  {
   "cell_type": "code",
   "execution_count": 2,
   "metadata": {},
   "outputs": [
    {
     "name": "stdout",
     "output_type": "stream",
     "text": [
      "[ 2. -1. -2.  1.]\n"
     ]
    }
   ],
   "source": [
    "from numpy import array, empty\n",
    "\n",
    "A = array([[2,1,4,1], \n",
    "          [3,4,-1,-1],\n",
    "          [1,-4,1,5],\n",
    "          [2,-2,1,3]], float)\n",
    "v = array([-4,3,9,7], float) \n",
    "#Ax = v (x is what we want to solve for)\n",
    "N = len(v) #number of rows/equations\n",
    "\n",
    "#goal is to get it into upper triangular form\n",
    "\n",
    "#Gaussian elimination\n",
    "for m in range(N):\n",
    "    \n",
    "    #dividing by diagonal element to get diagonal to be all 1s\n",
    "    div = A[m,m]\n",
    "    A[m,:] /= div\n",
    "    v[m] /= div #anything done to RHS needs to be done to LHS\n",
    "    \n",
    "    #subtracting from lower rows to get them to be zeros \n",
    "    for i in range(m+1, N): #on row m so want to go from m+1 and all rows below it # collin means do everyhing to all the columns\n",
    "        mult = A[i,m] #defining multiplictive factor so we can multiply by it and subtract\n",
    "        A[i, :] -= mult*A[m, :] #subtracting off multaplictive factor \n",
    "        v[i] -= mult*v[m] ##= LHS -> RHS\n",
    "        #now you have an upper triangular form\n",
    "        \n",
    "    #backsubstitution\n",
    "    x = empty(N, float)\n",
    "    for m in range(N-1,-1,-1):\n",
    "        x[m] = v[m]\n",
    "        for i in range(m+1,N):\n",
    "            x[m] -= A[m,i]*x[i]\n",
    "\n",
    "print(x)"
   ]
  },
  {
   "cell_type": "code",
   "execution_count": null,
   "metadata": {},
   "outputs": [],
   "source": []
  }
 ],
 "metadata": {
  "kernelspec": {
   "display_name": "Python 3.8 (basic)",
   "language": "python",
   "name": "python3"
  },
  "language_info": {
   "codemirror_mode": {
    "name": "ipython",
    "version": 3
   },
   "file_extension": ".py",
   "mimetype": "text/x-python",
   "name": "python",
   "nbconvert_exporter": "python",
   "pygments_lexer": "ipython3",
   "version": "3.8.1"
  }
 },
 "nbformat": 4,
 "nbformat_minor": 4
}
