{
 "cells": [
  {
   "cell_type": "code",
   "execution_count": 4,
   "metadata": {},
   "outputs": [
    {
     "name": "stdout",
     "output_type": "stream",
     "text": [
      "[87 38 59 79 37 59 14 64 22 96]\n",
      "[98 91 41 28 79 70 99 79 86  4]\n",
      "759.0\n",
      "Distance travled:  545.0\n",
      "[59 14 59 37 79 22 96 64 38 87]\n",
      "[70 99 41 79 28 86  4 79 91 98]\n"
     ]
    },
    {
     "data": {
      "image/png": "[encoded data removed]",
      "text/plain": [
       "<Figure size 432x288 with 1 Axes>"
      ]
     },
     "metadata": {
      "needs_background": "light"
     },
     "output_type": "display_data"
    }
   ],
   "source": [
    "import numpy as np\n",
    "from numpy import random\n",
    "import matplotlib.pyplot as plt\n",
    "\n",
    "N = 10 # number of people                                                                         \n",
    "\n",
    "# initalizing first and final floor arrays randomly                                               \n",
    "initalF = np.random.randint(1,101,10)\n",
    "finalF = np.random.randint(1,101,10)\n",
    "\n",
    "# if a person wants to go to a floor they're already on, re randomize                             \n",
    "for i in range(N):\n",
    "    if initalF[i] == finalF[i]:\n",
    "        initalF[i] = np.random.randint(1,101)\n",
    "        print(\"swapped\", initalF)\n",
    "\n",
    "print(initalF)\n",
    "print(finalF)\n",
    "\n",
    "# calculating the distance between floors                                                         \n",
    "def distance(N,a,b):# n = number of people, a = inital point, b = final point                     \n",
    "    s = 0. #distance travled                                                                      \n",
    "    for i in range(N): # loop through arrays to find the distances between each starting and final                                                                                                 \n",
    "        # endpoint                                                                                \n",
    "        s += abs(b[i] - a[i]) # abs b/c you don't want a - distance                               \n",
    "        # everything else                                                                         \n",
    "        if i < N -1:\n",
    "            s += abs(a[i+1] - b[i])\n",
    "    return s # distance value                                                                     \n",
    "                                                                                                                                \n",
    "D = distance(N,initalF,finalF) # first distance value from non swapped random arrays              \n",
    "print(D)\n",
    "                                                                                                                                \n",
    "D_saved = [] # initalizing D_saved array                                                          \n",
    "\n",
    "\n",
    "for dummy_counter in range(10000):\n",
    "                                                                                                                                \n",
    "    # picking 2 people to swap                                                                                                  \n",
    "    i = np.random.randint(N) # person 1                                                                                         \n",
    "    j = np.random.randint(N) # person 2                                                           \n",
    "                                                                                                                                \n",
    "    while i == j: # if the two people are the same, repick                                        \n",
    "        i = np.random.randint(N)\n",
    "        j = np.random.randint(N)\n",
    "                                                                                                                                \n",
    "    initalF[i],initalF[j] = initalF[j],initalF[i] # swapping inital floors of people 1 & 2                                      \n",
    "    finalF[i],finalF[j] = finalF[j],finalF[i] # swapping final floors of people 1 & 2             \n",
    "                                                                                                                                \n",
    "    swapD = distance(N,initalF,finalF) # recalculate distance for swapped floors\n",
    "    \n",
    "    if swapD < D: # if the distance isn't better, swap back and save                              \n",
    "        D = swapD\n",
    "        D_saved.append(D)\n",
    "    else: # if the distance is better, save                                                       \n",
    "        D_saved.append(D)\n",
    "\n",
    "print(\"Distance travled: \",D) # final optimized distance                                          \n",
    "print(initalF) # reordered inital floor array                                                     \n",
    "print(finalF) # reordered final floor array                                                       \n",
    "\n",
    "# plotting the process                                                                            \n",
    "fig = plt.figure()\n",
    "ax = fig.add_subplot(111)\n",
    "\n",
    "ax.plot(np.arange(len(D_saved)),D_saved)\n",
    "ax.set_xscale('log')\n",
    "plt.title('Distances as a Funtion of Swaps')\n",
    "plt.xlabel('Numer of Swaps')\n",
    "plt.ylabel('Elevator Distance')\n",
    "fig.savefig('mcmc1.png',dpi=300)"
   ]
  },
  {
   "cell_type": "code",
   "execution_count": null,
   "metadata": {},
   "outputs": [],
   "source": []
  }
 ],
 "metadata": {
  "kernelspec": {
   "display_name": "Python 3.8 (basic)",
   "language": "python",
   "name": "python3"
  },
  "language_info": {
   "codemirror_mode": {
    "name": "ipython",
    "version": 3
   },
   "file_extension": ".py",
   "mimetype": "text/x-python",
   "name": "python",
   "nbconvert_exporter": "python",
   "pygments_lexer": "ipython3",
   "version": "3.8.1"
  }
 },
 "nbformat": 4,
 "nbformat_minor": 4
}
