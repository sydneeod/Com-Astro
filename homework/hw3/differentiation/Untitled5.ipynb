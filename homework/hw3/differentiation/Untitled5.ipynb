{
 "cells": [
  {
   "cell_type": "code",
   "execution_count": null,
   "metadata": {},
   "outputs": [],
   "source": [
    "import numpy as np\n",
    "\n",
    "def Bv(T):\n",
    "    \n",
    "    h = 6.6261 * (10**(-27)) # planck's constant (cm^2 g s^-1) \n",
    "    c = 3 * (10**10) # speed of light (cm s^-1)\n",
    "    k = 1.3807 * (10**(-16)) # boltzman's constant (cm^2 g s^-2 K^-1)\n",
    "    w = 870 * (10**(-4)) # wavelength (cm)\n",
    "    v = c/w # frequency (hertz, s^-1)\n",
    "    BvT = 1.25 * (10**(-12)) # observed intensity (cgs units)\n",
    "    x = (((2*h*(v**3))/(c**2)) / (np.exp((h*v)/(k*T))-1)) - BvT # root \n",
    "    return x\n",
    "    \n",
    "tolerance = 1e-30 # precision \n",
    "y = 0.01\n",
    "n = 0.05\n",
    "\n",
    "\n",
    "while Bv(y) < tolerance: # run while the function is less than the tolerance\n",
    "    ycop = y  # make a copy\n",
    "    \n",
    "    while Bv(ycop) / Bv(y) > 0: # divide the copy by the orig and run while > 0\n",
    "        ycop += n # add to the copy a step size n\n",
    "        \n",
    "    mid = (ycop + y) / 2 # find the averaged midpoint between y and the copy \n",
    "    y = mid # set y = to this midpoint\n",
    "    \n",
    "print(y, \"is the answer to the great question... of life, the universe and everything.\")\n",
    "    \n",
    "    \n",
    "\n",
    "    \n",
    "    "
   ]
  },
  {
   "cell_type": "code",
   "execution_count": null,
   "metadata": {},
   "outputs": [],
   "source": []
  }
 ],
 "metadata": {
  "kernelspec": {
   "display_name": "Python 3.8 (basic)",
   "language": "python",
   "name": "python3"
  },
  "language_info": {
   "codemirror_mode": {
    "name": "ipython",
    "version": 3
   },
   "file_extension": ".py",
   "mimetype": "text/x-python",
   "name": "python",
   "nbconvert_exporter": "python",
   "pygments_lexer": "ipython3",
   "version": "3.8.1"
  }
 },
 "nbformat": 4,
 "nbformat_minor": 4
}
